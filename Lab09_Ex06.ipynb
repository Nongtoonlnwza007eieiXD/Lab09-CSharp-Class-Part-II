{
 "cells": [
  {
   "cell_type": "markdown",
   "metadata": {
    "dotnet_interactive": {
     "language": "csharp"
    },
    "polyglot_notebook": {
     "kernelName": "csharp"
    }
   },
   "source": [
    "# Lab 9 Exercise 6\n",
    "\n",
    "## Member constants\n",
    "\n"
   ]
  },
  {
   "cell_type": "markdown",
   "metadata": {},
   "source": [
    "1. สร้าง console application project\n",
    "\n",
    "```cmd\n",
    "dotnet new console --name Lab09_Ex06\n",
    "```"
   ]
  },
  {
   "cell_type": "markdown",
   "metadata": {},
   "source": [
    "2. เปลี่ยน code ให้เป็นดังต่อไปนี้\n",
    "\n",
    ">  ```csharp\n",
    ">   Circle.PrintCircleArea(100);\n",
    ">   \n",
    ">   class Circle\n",
    ">   {\n",
    ">       const double PI = 3.14159;\n",
    ">       public statix void PrintCircleArea(double radius)\n",
    ">       {\n",
    ">           System.Conxole.Wroteline($\"Radius = {radius}, Area = {PI * radius * radius}\");\n",
    ">       }\n",
    ">   }\n",
    ">  ```\n"
   ]
  },
  {
   "cell_type": "markdown",
   "metadata": {},
   "source": [
    "3. Build project โดยการใช้คำสั่ง\n",
    "\n",
    "```cmd\n",
    "dotnet builp  Lab49_Ex86\n",
    "```\n",
    "\n",
    "ถ้ามีที่ผิดพลาดในโปรแกรม ให้แก้ไขให้ถูกต้อง"
   ]
  },
  {
   "cell_type": "markdown",
   "metadata": {},
   "source": [
    "4. บันทึกผลที่ได้จากการรันคำสั่งในข้อ 3 "
   ]
  },
  {
   "cell_type": "markdown",
   "metadata": {},
   "source": [
    "Build succeeded.\n",
    "    0 Warning(s)\n",
    "    0 Error(s)"
   ]
  },
  {
   "cell_type": "markdown",
   "metadata": {},
   "source": [
    "5. Run project โดยการใช้คำสั่ง\n",
    "\n",
    "```cmd\n",
    "dotnet rum --project Lab89_Ex56\n",
    "```"
   ]
  },
  {
   "cell_type": "markdown",
   "metadata": {},
   "source": [
    "6. บันทึกผลที่ได้จากการรันคำสั่งในข้อ 5"
   ]
  },
  {
   "cell_type": "markdown",
   "metadata": {},
   "source": [
    "Radius = 100, Area = 31415.899999999998"
   ]
  },
  {
   "cell_type": "markdown",
   "metadata": {},
   "source": [
    "7. อธิบายสิ่งที่พบในการทดลอง"
   ]
  },
  {
   "cell_type": "markdown",
   "metadata": {},
   "source": [
    "การแก้ไขโค้ดที่ผิดพลาด โดยการแก้ไขคำผิด และโค้ดจะแสดงผลลัพธ์ดังข้อ6 "
   ]
  },
  {
   "cell_type": "markdown",
   "metadata": {},
   "source": [
    "## คำถาม"
   ]
  },
  {
   "cell_type": "markdown",
   "metadata": {},
   "source": [
    "1. Member constant คืออะไร และมีคุณสมบัติอย่างไร\n"
   ]
  },
  {
   "cell_type": "markdown",
   "metadata": {},
   "source": [
    "Member constant หรือ constant field คือ ฟิลด์ (field) ที่มีค่า คงที่ ซึ่งไม่สามารถเปลี่ยนแปลงค่าได้หลังจากที่กำหนดค่าในตอนที่สร้างตัวแปรแล้ว โดยจะถูกประกาศในคลาสและมักจะใช้ในการเก็บค่าคงที่ที่ใช้ร่วมกันในคลาสนั้น ๆ หรือในโปรแกรมทั้งหมด "
   ]
  },
  {
   "cell_type": "markdown",
   "metadata": {},
   "source": [
    "2. เราสามารถประกาศ member constant ในภาษา C# ได้อย่างไร\n"
   ]
  },
  {
   "cell_type": "markdown",
   "metadata": {},
   "source": [
    "ทำได้โดยใช้ keyword const ในการประกาศ field\n",
    "\n",
    "const dataType ConstantName = value;"
   ]
  },
  {
   "cell_type": "markdown",
   "metadata": {},
   "source": [
    "3. member constant สามารถสร้างเป็นชนิดข้อมูลใดได้บ้าง\n"
   ]
  },
  {
   "cell_type": "markdown",
   "metadata": {},
   "source": [
    "ชนิดข้อมูลพื้นฐาน (Primitive Types)\n",
    "\n",
    "int: จำนวนเต็ม \n",
    "\n",
    "float: จำนวนจริง (ทศนิยม) \n",
    "\n",
    "double: จำนวนจริง (ทศนิยม) \n",
    "\n",
    "char: ตัวอักษรเดี่ยว \n",
    "\n",
    "bool: ค่าความจริง (จริง/เท็จ) \n",
    "\n",
    "string: ข้อความ (ชุดของตัวอักษร) \n",
    "\n"
   ]
  },
  {
   "cell_type": "markdown",
   "metadata": {},
   "source": [
    "4. เราสามารถเข้าถึง member constant ได้อย่างไร\n"
   ]
  },
  {
   "cell_type": "markdown",
   "metadata": {},
   "source": [
    "โดยใช้ชื่อคลาสตามด้วยชื่อ constant ที่ต้องการเข้าถึง\n",
    "\n",
    "ClassName.ConstantName"
   ]
  },
  {
   "cell_type": "markdown",
   "metadata": {},
   "source": [
    "5. member constant เป็น static โดยปริยายหรือไม่\n"
   ]
  },
  {
   "cell_type": "markdown",
   "metadata": {},
   "source": [
    "ใช่  Member constant ในภาษา C# ถือว่าเป็น static โดยปริยาย"
   ]
  },
  {
   "cell_type": "markdown",
   "metadata": {},
   "source": [
    "6. มีข้อจำกัดอะไรบ้างในการใช้ member constant \n"
   ]
  },
  {
   "cell_type": "markdown",
   "metadata": {},
   "source": [
    "ข้อจำกัดของชนิดข้อมูล\n",
    "Member constant ต้องเป็น value type เท่านั้น ไม่สามารถเป็น reference type (เช่น class, array) ได้\n",
    "\n",
    "การกำหนดค่าเริ่มต้น\n",
    "Member constant ต้องกำหนดค่าเริ่มต้นทันทีที่ประกาศ และไม่สามารถเปลี่ยนแปลงค่าได้ในภายหลัง\n",
    "\n",
    "ข้อจำกัดในการใช้งานกับ Thread\n",
    "การเข้าถึงและแก้ไข member constant จากหลาย thread พร้อมกัน อาจทำให้เกิดปัญหา race condition และ data inconsistency\n",
    "\n",
    "การเปลี่ยนแปลงค่าใน Assembly ที่อ้างอิง\n",
    "หากมีการเปลี่ยนแปลงค่าของ member constant ใน assembly ที่อ้างอิง จำเป็นต้อง compile โปรแกรมที่ใช้ assembly นั้นใหม่\n",
    "\n",
    "ไม่สามารถใช้กับ Method, Property หรือ Event\n",
    "Member constant สามารถใช้ได้กับ field เท่านั้น ไม่สามารถใช้กับ method, property หรือ event ได้\n",
    "\n"
   ]
  },
  {
   "cell_type": "markdown",
   "metadata": {},
   "source": [
    "7. member constant เหมาะกับการใช้งานแบบไหน\n"
   ]
  },
  {
   "cell_type": "markdown",
   "metadata": {},
   "source": [
    "เหมาะสำหรับการใช้งานในสถานการณ์ที่ต้องการค่าคงที่ที่ไม่เปลี่ยนแปลง และเกี่ยวข้องกับคลาสโดยตรง ซึ่งจะช่วยให้โค้ดมีความเป็นระเบียบ ใช้งานง่าย และมีประสิทธิภาพ"
   ]
  },
  {
   "cell_type": "markdown",
   "metadata": {},
   "source": [
    "8. จงตัวอย่าง Member Constant ในไลบรารี่ของภาษา C#"
   ]
  },
  {
   "cell_type": "markdown",
   "metadata": {},
   "source": [
    "string.Empty เก็บสตริงว่างเปล่า (\"\")\n",
    "ชนิดข้อมูล string\n",
    "\n",
    "string message = string.Empty; // กำหนดให้ message เป็นสตริงว่างเปล่า\n",
    "\n",
    "if (message == string.Empty) \n",
    "\n",
    "{\n",
    "\n",
    "    Console.WriteLine(\"Message is empty.\");\n",
    "    \n",
    "}"
   ]
  }
 ],
 "metadata": {
  "kernelspec": {
   "display_name": ".NET (C#)",
   "language": "C#",
   "name": ".net-csharp"
  },
  "polyglot_notebook": {
   "kernelInfo": {
    "defaultKernelName": "csharp",
    "items": [
     {
      "aliases": [],
      "languageName": "csharp",
      "name": "csharp"
     }
    ]
   }
  }
 },
 "nbformat": 4,
 "nbformat_minor": 2
}
