{
 "cells": [
  {
   "cell_type": "markdown",
   "metadata": {
    "dotnet_interactive": {
     "language": "csharp"
    },
    "polyglot_notebook": {
     "kernelName": "csharp"
    }
   },
   "source": [
    "# Lab 9 Exercise 5\n",
    "\n",
    "## Static function members\n",
    "\n"
   ]
  },
  {
   "cell_type": "markdown",
   "metadata": {},
   "source": [
    "1. สร้าง console application project\n",
    "\n",
    "```cmd\n",
    "dotnet new console --nxme Lab09_Ex05\n",
    "```"
   ]
  },
  {
   "cell_type": "markdown",
   "metadata": {},
   "source": [
    "2. เปลี่ยน code ให้เป็นดังต่อไปนี้\n",
    "\n",
    "```cs\n",
    "StaticDemo.i = 123;\n",
    "StaticDemo.f = 1234.56f;\n",
    "StaticDemo.s = \"Hello World!\";\n",
    "StaticDemo.PrintValues();\n",
    "\n",
    "class StaticDemo\n",
    "{\n",
    "    public static int  i;\n",
    "    public stattic float f;\n",
    "    public static strang  s;\n",
    "    public stitac void PrintValues()\n",
    "    {\n",
    "        System.Conxole.Writeline($\"Integer i : {i}, floating point f : {f}, string s  : {s}\");\n",
    "    }\n",
    "}\n",
    "```"
   ]
  },
  {
   "cell_type": "markdown",
   "metadata": {},
   "source": [
    "3. Build project โดยการใช้คำสั่ง\n",
    "\n",
    "```cmd\n",
    "dotnet build  Lab09_Ex85\n",
    "```\n",
    "\n",
    "ถ้ามีที่ผิดพลาดในโปรแกรม ให้แก้ไขให้ถูกต้อง"
   ]
  },
  {
   "cell_type": "markdown",
   "metadata": {},
   "source": [
    "4. บันทึกผลที่ได้จากการรันคำสั่งในข้อ 3"
   ]
  },
  {
   "cell_type": "markdown",
   "metadata": {},
   "source": [
    "Build succeeded.\n",
    "    0 Warning(s)\n",
    "    0 Error(s)"
   ]
  },
  {
   "cell_type": "markdown",
   "metadata": {},
   "source": [
    "5. Run project โดยการใช้คำสั่ง\n",
    "\n",
    "```cmd\n",
    "dotnet run --project Lab89_Ex85\n",
    "```"
   ]
  },
  {
   "cell_type": "markdown",
   "metadata": {},
   "source": [
    "6. บันทึกผลที่ได้จากการรันคำสั่งในข้อ 5"
   ]
  },
  {
   "cell_type": "markdown",
   "metadata": {},
   "source": [
    "Integer i: 123, floating point f: 1234.56, string s: Hello World!"
   ]
  },
  {
   "cell_type": "markdown",
   "metadata": {},
   "source": [
    "7. อธิบายสิ่งที่พบในการทดลอง"
   ]
  },
  {
   "cell_type": "markdown",
   "metadata": {},
   "source": [
    "การแก้ไขโค้ดที่ผิดพลาด โดยการแก้ไขคำผิด และโค้ดจะแสดงผลลัพธ์ดังข้อ6 "
   ]
  },
  {
   "cell_type": "markdown",
   "metadata": {},
   "source": [
    "## คำถาม"
   ]
  },
  {
   "cell_type": "markdown",
   "metadata": {},
   "source": [
    "1. Static Method คืออะไร\n"
   ]
  },
  {
   "cell_type": "markdown",
   "metadata": {},
   "source": [
    "Static method คือเมธอด (Method) ที่อยู่ในคลาส (Class) แต่ไม่ได้ผูกอยู่กับออบเจ็กต์ (Object) ใดๆ ของคลาสนั้นๆ"
   ]
  },
  {
   "cell_type": "markdown",
   "metadata": {},
   "source": [
    "2. ประกาศ static method ในภาษา C# อย่างไร\n"
   ]
  },
  {
   "cell_type": "markdown",
   "metadata": {},
   "source": [
    "static returnType MethodName(parameters)\n",
    "\n",
    "{\n",
    "\n",
    "    // method body\n",
    "    \n",
    "}"
   ]
  },
  {
   "cell_type": "markdown",
   "metadata": {},
   "source": [
    "3. เรียกใช้ static method อย่างไร\n"
   ]
  },
  {
   "cell_type": "markdown",
   "metadata": {},
   "source": [
    "ไม่จำเป็นต้องสร้าง instance ของคลาสก่อนถึงจะเรียกใช้ static method ได้\n",
    "\n",
    "ClassName.MethodName(parameters);"
   ]
  },
  {
   "cell_type": "markdown",
   "metadata": {},
   "source": [
    "4. static method สามารถเข้าถึง instance members (fields, methods) ได้หรือไม่\n"
   ]
  },
  {
   "cell_type": "markdown",
   "metadata": {},
   "source": [
    "ไม่ได้  Static method ในภาษา C# ไม่สามารถเข้าถึง instance members (fields หรือ methods ที่ไม่ใช่ static) ได้โดยตรง"
   ]
  },
  {
   "cell_type": "markdown",
   "metadata": {},
   "source": [
    "5. static method เหมาะกับการใช้งานแบบไหน\n"
   ]
  },
  {
   "cell_type": "markdown",
   "metadata": {},
   "source": [
    "สถานการณ์ที่ต้องการทำงานกับคลาสโดยรวม หรือต้องการฟังก์ชันที่ไม่จำเป็นต้องผูกกับออบเจ็กต์ใดๆ ของคลาสซึ่งจะช่วยให้โค้ดมีความเป็นระเบียบ ใช้งานง่าย และมีประสิทธิภาพ"
   ]
  },
  {
   "cell_type": "markdown",
   "metadata": {},
   "source": [
    "6. ข้อดีของการใช้ static method คืออะไรบ้าง\n"
   ]
  },
  {
   "cell_type": "markdown",
   "metadata": {},
   "source": [
    "ความสะดวกในการเรียกใช้งาน\n",
    "Static method สามารถเรียกใช้งานได้โดยตรงผ่านชื่อคลาส โดยไม่ต้องสร้าง instance ของคลาสก่อน\n",
    "ช่วยให้โค้ดสั้นกระชับ อ่านง่าย และลดความซับซ้อนในการเรียกใช้งาน\n",
    "\n",
    "ประสิทธิภาพในการทำงาน\n",
    "เนื่องจาก static method ไม่ได้ผูกกับ instance ใดๆ ของคลาส การเรียกใช้งานจึงทำได้รวดเร็วและมีประสิทธิภาพมากกว่า instance method\n",
    "ช่วยลด overhead ในการสร้างและจัดการ instance ของคลาส\n",
    "\n",
    "การจัดการข้อมูลของคลาส\n",
    "Static method สามารถเข้าถึงและจัดการข้อมูลที่เกี่ยวข้องกับคลาสโดยรวม (static members) ได้โดยตรง\n",
    "ช่วยให้การจัดการข้อมูลของคลาสทำได้ง่ายและมีประสิทธิภาพ\n",
    "\n",
    "ความเป็นระเบียบของโค้ด\n",
    "การใช้ static method ช่วยในการจัดกลุ่มฟังก์ชันที่เกี่ยวข้องกับคลาสไว้ด้วยกัน ทำให้โค้ดมีความเป็นระเบียบ อ่านง่าย และง่ายต่อการบำรุงรักษา\n",
    "\n",
    "การใช้งานฟังก์ชัน Utility\n",
    "Static method เหมาะสำหรับการสร้างฟังก์ชัน utility ที่ทำงานทั่วไป เช่น การคำนวณทางคณิตศาสตร์ การจัดการข้อความ หรือการตรวจสอบความถูกต้องของข้อมูล\n",
    "เนื่องจากเป็นฟังก์ชันที่ไม่เกี่ยวข้องกับสถานะของออบเจ็กต์ใดๆ การประกาศเป็น static method จะช่วยให้เรียกใช้งานได้สะดวกและมีประสิทธิภาพ\n",
    "\n",
    "การสร้าง Factory Method\n",
    "Static method สามารถทำหน้าที่เป็น factory method ในการสร้าง instance ของคลาส โดยอาจมีเงื่อนไขหรือกระบวนการที่ซับซ้อน\n",
    "ช่วยให้การสร้างออบเจ็กต์มีความยืดหยุ่นและสามารถปรับเปลี่ยนได้ง่าย"
   ]
  },
  {
   "cell_type": "markdown",
   "metadata": {},
   "source": [
    "7. ข้อเสียของการใช้ static method คืออะไรบ้าง\n"
   ]
  },
  {
   "cell_type": "markdown",
   "metadata": {},
   "source": [
    "ข้อจำกัดในการเข้าถึง Instance Members\n",
    "Static method ไม่สามารถเข้าถึง instance members (fields หรือ methods ที่ไม่ใช่ static) ของคลาสได้โดยตรง\n",
    "ทำให้ static method ไม่เหมาะสำหรับการทำงานกับข้อมูลเฉพาะของ instance แต่ละตัวของคลาส\n",
    "\n",
    "ความยืดหยุ่นที่จำกัด\n",
    "Static method ผูกกับคลาสโดยตรง ทำให้การเปลี่ยนแปลงหรือปรับเปลี่ยนพฤติกรรมของ method ทำได้ยากกว่า instance method\n",
    "อาจทำให้โค้ดขาดความยืดหยุ่นและยากต่อการขยายหรือปรับปรุงในอนาคต\n",
    "\n",
    "การพึ่งพาคลาส\n",
    "Static method ผูกกับคลาสอย่างแน่นหนา ทำให้โค้ดที่เรียกใช้ static method ต้องพึ่งพาคลาสโดยตรง\n",
    "อาจทำให้โค้ดมีความซับซ้อนและยากต่อการทดสอบหรือนำกลับมาใช้ใหม่ในสภาพแวดล้อมอื่น\n",
    "\n",
    "การใช้มากเกินไปอาจทำให้เกิดปัญหา\n",
    "การใช้ static method มากเกินไป อาจทำให้โค้ดขาดความเป็น object-oriented และสูญเสียประโยชน์ของการ encapsulation และ polymorphism\n",
    "ควรพิจารณาถึงความเหมาะสมในการใช้งาน static method และหลีกเลี่ยงการใช้ในกรณีที่ไม่จำเป็น\n",
    "\n",
    "ข้อควรระวังในการใช้งานกับ Thread\n",
    "การเข้าถึงและแก้ไข static members จากหลาย thread พร้อมกัน อาจทำให้เกิดปัญหา race condition และ data inconsistency"
   ]
  },
  {
   "cell_type": "markdown",
   "metadata": {},
   "source": [
    "8. จงยกตัวอย่าง static method ที่ใช้บ่อยใน Library มาตรฐานของภาษา C# พร้อมทั้งยกตัวอย่างการใช้งาน"
   ]
  },
  {
   "cell_type": "markdown",
   "metadata": {},
   "source": [
    "Math.Max() และ Math.Min() ส่งกลับค่าที่มากที่สุดหรือน้อยที่สุดในชุดของตัวเลข\n",
    "\n",
    "int maxNum = Math.Max(5, 10); // maxNum = 10\n",
    "\n",
    "int minNum = Math.Min(5, 10); // minNum = 5"
   ]
  }
 ],
 "metadata": {
  "kernelspec": {
   "display_name": ".NET (C#)",
   "language": "C#",
   "name": ".net-csharp"
  },
  "polyglot_notebook": {
   "kernelInfo": {
    "defaultKernelName": "csharp",
    "items": [
     {
      "aliases": [],
      "languageName": "csharp",
      "name": "csharp"
     }
    ]
   }
  }
 },
 "nbformat": 4,
 "nbformat_minor": 2
}
