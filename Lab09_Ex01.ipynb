{
 "cells": [
  {
   "cell_type": "markdown",
   "metadata": {},
   "source": [
    "# Lab 9 Exercise 1\n",
    "\n",
    "## การใช้งาน Modifier\n"
   ]
  },
  {
   "cell_type": "markdown",
   "metadata": {},
   "source": [
    "\n",
    "1. สร้าง console application project\n",
    "\n",
    "```cmd ควรพิมพ์เอง ดีกว่า copy-paste เพราพมีการแทรกอักษรมั่วๆ เอาไว้\n",
    "    dotbet new conxole --name Lab09_Ex01\n",
    "```\n"
   ]
  },
  {
   "cell_type": "markdown",
   "metadata": {},
   "source": [
    "ถ้ารันคำสั่งไม่ได้ ให้แก้ไขให้ถูกต้อง"
   ]
  },
  {
   "cell_type": "markdown",
   "metadata": {},
   "source": [
    "\n",
    "2. เปลี่ยน code ให้เป็นดังต่อไปนี้\n",
    "\n",
    "> ```csharp\n",
    ">   Person.name = \"_________________\";\n",
    ">   System.conso1e.writ1ine(Person.GetName());\n",
    ">   \n",
    ">   static class Person\n",
    ">   {\n",
    ">       public static st__ng? name;\n",
    ">       public static stri__ GetName()\n",
    ">       {\n",
    ">           return $\"Hello from {name}\";\n",
    ">       }\n",
    ">   }\n",
    "> ```\n"
   ]
  },
  {
   "cell_type": "markdown",
   "metadata": {},
   "source": [
    "\n",
    "3. Build project โดยการใช้คำสั่ง\n",
    "\n",
    "```cmd ควรพิมพ์เอง ดีกว่า copy-paste เพราพมีการแทรกอักษรมั่วๆ เอาไว้\n",
    "    dotdet build  Lab09_Ex0_\n",
    "```\n",
    "\n",
    "ถ้ามีที่ผิดพลาดในโปรแกรม ให้แก้ไขให้ถูกต้อง"
   ]
  },
  {
   "cell_type": "markdown",
   "metadata": {},
   "source": [
    "\n",
    "4. บันทึกผลที่ได้จากการรันคำสั่งในข้อ 3\n"
   ]
  },
  {
   "cell_type": "markdown",
   "metadata": {},
   "source": [
    "Build succeded."
   ]
  },
  {
   "cell_type": "markdown",
   "metadata": {},
   "source": [
    "\n",
    "5. Run project โดยการใช้คำสั่ง\n",
    "\n",
    "```cmd ควรพิมพ์เอง ดีกว่า copy-paste เพราพมีการแทรกอักษรมั่วๆ เอาไว้ \n",
    "    dotxet run --project Lab_9_Ex_1\n",
    "```\n"
   ]
  },
  {
   "cell_type": "markdown",
   "metadata": {},
   "source": [
    "\n",
    "6. บันทึกผลที่ได้จากการรันคำสั่งในข้อ 5\n"
   ]
  },
  {
   "cell_type": "markdown",
   "metadata": {},
   "source": [
    "Hello from sronsawan"
   ]
  },
  {
   "cell_type": "markdown",
   "metadata": {},
   "source": [
    "\n",
    "7. อธิบายสิ่งที่พบในการทดลอง"
   ]
  },
  {
   "cell_type": "markdown",
   "metadata": {},
   "source": [
    "การแก้ไขโค้ดที่ผิดและโค้ดนี้จะพิมพ์ข้อความ Hello from sronsawan ในConsole."
   ]
  },
  {
   "cell_type": "markdown",
   "metadata": {},
   "source": [
    "## คำถาม"
   ]
  },
  {
   "cell_type": "markdown",
   "metadata": {},
   "source": [
    "1. Static field และ static method ต่างจาก instance field และ instance method อย่างไร"
   ]
  },
  {
   "cell_type": "markdown",
   "metadata": {},
   "source": [
    "Instance Field เป็นฟิลด์ที่ผูกอยู่กับแต่ละออบเจ็กต์ (object) หรืออินสแตนซ์ (instance) ของคลาสเข้าถึงผ่านออบเจ็กต์ที่สร้างขึ้นจากคลาส แต่ละออบเจ็กต์จะมีค่าของ instance field เป็นของตัวเอง ซึ่งอาจแตกต่างกันไปในแต่ละออบเจ็กต์\n",
    "\n",
    "Static Field เป็นฟิลด์ที่ ผูกอยู่กับคลาสโดยตรง ไม่ได้ผูกกับออบเจ็กต์ใดๆ เข้าถึงผ่านชื่อคลาสโดยตรง ทุกออบเจ็กต์ของคลาสจะ แชร์ค่า static field ร่วมกัน\n",
    "\n",
    "Instance Method เป็นเมธอดที่ ทำงานกับข้อมูลของออบเจ็กต์ หรืออินสแตนซ์ เรียกใช้ผ่านออบเจ็กต์ สามารถเข้าถึงและแก้ไข instance field ของออบเจ็กต์นั้นๆ ได้"
   ]
  },
  {
   "cell_type": "markdown",
   "metadata": {},
   "source": [
    "2. เหตุใดเราจึงสามารถเข้าถึง Person.name และ Person.GetName() ได้โดยตรงผ่านชื่อ class โดยไม่ต้องสร้าง object"
   ]
  },
  {
   "cell_type": "markdown",
   "metadata": {},
   "source": [
    " C# คำว่า static ใช้ในการประกาศสมาชิกของคลาส (เช่น ฟิลด์, เมธอด, หรือ โปรเพอร์ตี้) ที่ ไม่เกี่ยวข้องกับอ็อบเจ็กต์ (instance) ของคลาสนั้น แต่เป็นสมาชิกที่ เกี่ยวข้องกับคลาสโดยตรง สามารถเข้าถึงสมาชิก static ได้โดยไม่จำเป็นต้องสร้างอ็อบเจ็กต์จากคลาสนั้น (class instance)\n",
    " ในกรณีของ Person.name และ Person.GetName() นั้นทั้งสองเป็นสมาชิกที่ประกาศเป็น static ซึ่งหมายความว่าค่าของฟิลด์ name หรือเมธอด GetName จะถูกเก็บไว้ใน ระดับคลาส ไม่ใช่ใน ระดับอินสแตนซ์ (object) ของคลาส Person"
   ]
  },
  {
   "cell_type": "markdown",
   "metadata": {},
   "source": [
    "\n",
    "3. Static class มีข้อจำกัดอะไรบ้าง\n"
   ]
  },
  {
   "cell_type": "markdown",
   "metadata": {},
   "source": [
    "Static class ไม่สามารถถูกสร้างเป็นออบเจ็กต์ (instance) ได้โดยใช้ตัวดำเนินการ new เนื่องจากมีจุดประสงค์เพื่อให้ใช้งานในระดับคลาสเท่านั้น\n",
    "\n",
    "สมาชิกทั้งหมด (fields, methods, properties, events) ภายใน static class ต้องเป็น static เท่านั้น\n",
    "\n",
    "Static class ไม่สามารถสืบทอด (inherit) จากคลาสอื่นได้ และคลาสอื่นก็ไม่สามารถสืบทอดจาก static class ได้"
   ]
  },
  {
   "cell_type": "markdown",
   "metadata": {},
   "source": [
    "4. เราไม่สามารถสร้าง instance ของ static class ได้เพราะอะไร"
   ]
  },
  {
   "cell_type": "markdown",
   "metadata": {},
   "source": [
    "Static class มีไว้สำหรับเก็บสมาชิก static ซึ่งผูกกับคลาสโดยตรง ไม่ได้ผูกกับออบเจ็กต์\n",
    "\n",
    "Static class ไม่มีสถานะเฉพาะของออบเจ็กต์ การสร้าง instance จึงไม่มีความจำเป็น\n",
    "\n",
    "ภาษาโปรแกรมมิ่งไม่อนุญาตให้สร้าง instance ของ static class เพื่อให้เป็นไปตามจุดประสงค์ของมัน"
   ]
  },
  {
   "cell_type": "markdown",
   "metadata": {},
   "source": [
    "5. ประโยชน์ของการใช้ static class คืออะไร  มีสถานการณ์ใดบ้างที่เราควรใช้ static class"
   ]
  },
  {
   "cell_type": "markdown",
   "metadata": {},
   "source": [
    "Static class ช่วยในการจัดกลุ่มสมาชิก (fields, methods, properties) ที่มีความเกี่ยวข้องหรือทำงานร่วมกัน ภายใต้ชื่อคลาสเดียว\n",
    "ทำให้โค้ดมีความเป็นระเบียบ อ่านง่าย และง่ายต่อการบำรุงรักษา\n",
    "\n",
    "Static class สามารถใช้เพื่อเก็บค่าคงที่ (constants) ที่ใช้ร่วมกันทั่วทั้งโปรแกรมช่วยให้เข้าถึงค่าคงที่ได้ง่าย และหลีกเลี่ยงการประกาศค่าคงที่ซ้ำซ้อน\n",
    "\n",
    "สถานการณ์ที่ควรใช้ Static Class\n",
    "Utility Class เมื่อต้องการสร้างคลาสที่ประกอบด้วยฟังก์ชันหรือเมธอดที่ทำงานทั่วไป และไม่จำเป็นต้องสร้างออบเจ็กต์ เมื่อต้องการเก็บค่าคงที่ที่ใช้ร่วมกันในหลายส่วนของโปรแกรม  เมื่อต้องการเพิ่มเมธอดให้กับคลาสที่มีอยู่แล้ว โดยไม่ต้องการแก้ไขคลาสเดิม\n",
    "เมื่อต้องการเข้าถึงข้อมูลหรือฟังก์ชันที่ใช้ร่วมกันในหลายส่วนของโปรแกรม"
   ]
  }
 ],
 "metadata": {
  "kernelspec": {
   "display_name": ".NET (C#)",
   "language": "C#",
   "name": ".net-csharp"
  },
  "polyglot_notebook": {
   "kernelInfo": {
    "defaultKernelName": "csharp",
    "items": [
     {
      "aliases": [],
      "languageName": "csharp",
      "name": "csharp"
     }
    ]
   }
  }
 },
 "nbformat": 4,
 "nbformat_minor": 2
}
