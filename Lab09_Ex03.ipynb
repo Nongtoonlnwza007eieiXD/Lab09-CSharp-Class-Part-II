{
 "cells": [
  {
   "cell_type": "markdown",
   "metadata": {
    "dotnet_interactive": {
     "language": "csharp"
    },
    "polyglot_notebook": {
     "kernelName": "csharp"
    }
   },
   "source": [
    "# Lab 9 Exercise 3\n",
    "\n",
    "## Instance vs static members\n"
   ]
  },
  {
   "cell_type": "markdown",
   "metadata": {},
   "source": [
    "\n",
    "1. สร้าง console application project\n",
    "\n",
    "```cmd\n",
    "    dotnet new console --name Lab09_Ex03\n",
    "```\n"
   ]
  },
  {
   "cell_type": "markdown",
   "metadata": {},
   "source": [
    "\n",
    "2. เปลี่ยน code ให้เป็นดังต่อไปนี้\n",
    "\n",
    "```csharp\n",
    "    Person.name = \"____Person name _____\";\n",
    "    System.Cοnsο1e.write1ine(Person.GetName());\n",
    "    var student = new Student();\n",
    "    student.name = \"_______student name_______\";\n",
    "    System.Conso1e.ωrite1ine(student.GetName());\n",
    "\n",
    "    static Class Person\n",
    "    {\n",
    "        static  pub1ic string? name;\n",
    "        static  pub1ic string GetName()\n",
    "        {\n",
    "            return $\"Hello from {nawe}\";\n",
    "        }\n",
    "    }\n",
    "\n",
    "    class Student : Person\n",
    "    {\n",
    "        \n",
    "    }\n",
    "```\n"
   ]
  },
  {
   "cell_type": "markdown",
   "metadata": {},
   "source": [
    "\n",
    "3. Build project โดยการใช้คำสั่ง\n",
    "\n",
    "```cmd\n",
    "dotnet bul1d  Lab09_Ex03\n",
    "```\n",
    "\n",
    "ถ้ามีที่ผิดพลาดในโปรแกรม ให้แก้ไขให้ถูกต้อง\n"
   ]
  },
  {
   "cell_type": "markdown",
   "metadata": {},
   "source": [
    "Build succeeded.\n",
    "    0 Warning(s)\n",
    "    0 Error(s)"
   ]
  },
  {
   "cell_type": "markdown",
   "metadata": {},
   "source": [
    "\n",
    "4. บันทึกผลที่ได้จากการรันคำสั่งในข้อ 3 \n"
   ]
  },
  {
   "cell_type": "markdown",
   "metadata": {},
   "source": [
    "Build succeeded.\n",
    "    0 Warning(s)\n",
    "    0 Error(s)"
   ]
  },
  {
   "cell_type": "markdown",
   "metadata": {},
   "source": [
    "\n",
    "5. Run project โดยการใช้คำสั่ง\n",
    "\n",
    "```cmd\n",
    "dotnet rum --project Lab09_Ex03\n",
    "```\n"
   ]
  },
  {
   "cell_type": "markdown",
   "metadata": {},
   "source": [
    "\n",
    "6. บันทึกผลที่ได้จากการรันคำสั่งในข้อ 5\n"
   ]
  },
  {
   "cell_type": "markdown",
   "metadata": {},
   "source": [
    "Hello from sronsawan\n",
    "\n",
    "Hello from 66030284"
   ]
  },
  {
   "cell_type": "markdown",
   "metadata": {},
   "source": [
    "\n",
    "7. อธิบายสิ่งที่พบในการทดลอง"
   ]
  },
  {
   "cell_type": "markdown",
   "metadata": {},
   "source": [
    "จากการทดลองมีโค้ดที่ผิดพลาดจึงทำการแก้ไข และการลบ static หน้า class person"
   ]
  },
  {
   "cell_type": "markdown",
   "metadata": {},
   "source": [
    "## คำถาม"
   ]
  },
  {
   "cell_type": "markdown",
   "metadata": {},
   "source": [
    "1. ในภาษา C# นั้น Instance members และ static members  แตกต่างกันอย่างไร"
   ]
  },
  {
   "cell_type": "markdown",
   "metadata": {},
   "source": [
    "Instance Members ใช้สำหรับข้อมูลที่ต้องการให้แยกกันระหว่างอ็อบเจ็กต์แต่ละตัว เช่น ชื่อ อายุ หรือสถานะของอ็อบเจ็กต์\n",
    "\n",
    "Static Members ใช้สำหรับข้อมูลที่ไม่เปลี่ยนแปลงหรือใช้ร่วมกันในทุกอ็อบเจ็กต์ของคลาสนั้น ๆ เช่น ค่าคงที่ที่ใช้ร่วมกัน ฟังก์ชันที่ไม่ต้องใช้สถานะของอ็อบเจ็กต์"
   ]
  },
  {
   "cell_type": "markdown",
   "metadata": {},
   "source": [
    "2. เข้าถึง Instance members และ static members มีหลักการที่แตกต่างกันอย่างไร"
   ]
  },
  {
   "cell_type": "markdown",
   "metadata": {},
   "source": [
    "Instance Members: ต้องใช้ตัวแปรอ็อบเจ็กต์เพื่อเข้าถึง และมีค่าที่แยกกันสำหรับแต่ละอ็อบเจ็กต์ของคลาส\n",
    "\n",
    "Static Members: สามารถเข้าถึงได้โดยตรงผ่านชื่อคลาสโดยไม่ต้องสร้างอ็อบเจ็กต์ และมีค่าเดียวกันสำหรับทุกอ็อบเจ็กต์ที่สร้างจากคลาสนั้น"
   ]
  },
  {
   "cell_type": "markdown",
   "metadata": {},
   "source": [
    "3. Instance members และ static members เหมาะกับการใช้งานแบบไหน"
   ]
  },
  {
   "cell_type": "markdown",
   "metadata": {},
   "source": [
    "Instance Members เหมาะสำหรับการทำงานกับข้อมูลหรือพฤติกรรมที่ เฉพาะเจาะจงกับแต่ละออบเจ็กต์\n",
    "\n",
    "Static Members เหมาะสำหรับการทำงานกับข้อมูลหรือพฤติกรรมที่ เกี่ยวข้องกับคลาสโดยรวม"
   ]
  },
  {
   "cell_type": "markdown",
   "metadata": {},
   "source": [
    "4. Instance members และ static members ใช้หน่วยความจำต่างกันอย่างไร"
   ]
  },
  {
   "cell_type": "markdown",
   "metadata": {},
   "source": [
    "Instance members จะถูกจัดเก็บใน heap memory (หน่วยความจำที่ใช้สำหรับการจัดเก็บอ็อบเจ็กต์) และจะถูกสร้างขึ้นเมื่อมีการสร้างอ็อบเจ็กต์ของคลาสนั้น ๆ\n",
    "\n",
    "ทุกอ็อบเจ็กต์ที่ถูกสร้างจากคลาสหนึ่ง ๆ จะมี instance members แยกกัน ซึ่งหมายความว่าแต่ละอินสแตนซ์จะมีสำเนาของตัวแปรและเมธอด (ที่ไม่ใช่ static) ของตัวเอง\n",
    "\n",
    "Static members จะถูกจัดเก็บใน memory area ที่เป็นของคลาส (มักจะเรียกว่า type-specific memory หรือ class memory) ซึ่งไม่เกี่ยวข้องกับการสร้างอ็อบเจ็กต์\n",
    "\n",
    "มีการใช้หน่วยความจำเพียง ครั้งเดียว สำหรับคลาสนั้น ๆ โดยไม่ว่าจะสร้างอ็อบเจ็กต์จำนวนมากแค่ไหน ก็จะใช้หน่วยความจำเดียวกัน"
   ]
  },
  {
   "cell_type": "markdown",
   "metadata": {},
   "source": [
    "5. Instance members และ static members มีอายุการใช้งานต่างกันอย่างไร"
   ]
  },
  {
   "cell_type": "markdown",
   "metadata": {},
   "source": [
    "Instance members\n",
    "คือสมาชิกของคลาสที่ผูกติดกับแต่ละอ็อบเจ็กต์ (object) หรืออินสแตนซ์ (instance) ของคลาส\n",
    "มีอายุการใช้งานที่เริ่มต้นเมื่อมีการสร้างอ็อบเจ็กต์ของคลาส และสิ้นสุดเมื่ออ็อบเจ็กต์นั้นถูกทำลาย\n",
    "สามารถเข้าถึงและแก้ไขค่าได้ผ่านทางอ็อบเจ็กต์ของคลาส\n",
    "    \n",
    "Static members\n",
    "คือสมาชิกของคลาสที่ผูกติดกับคลาสโดยตรง ไม่ได้ผูกติดกับอ็อบเจ็กต์ใดๆ\n",
    "มีอายุการใช้งานที่เริ่มต้นเมื่อคลาสถูกโหลดเข้าสู่หน่วยความจำ และสิ้นสุดเมื่อโปรแกรมสิ้นสุดการทำงาน\n",
    "สามารถเข้าถึงและแก้ไขค่าได้โดยตรงผ่านทางชื่อของคลาส"
   ]
  },
  {
   "cell_type": "markdown",
   "metadata": {},
   "source": [
    "6. Instance members และ static members สามารถใช้งานร่วมกันได้หรือไม่"
   ]
  },
  {
   "cell_type": "markdown",
   "metadata": {},
   "source": [
    "สามารถใช้งานร่วมกันได้ในคลาสเดียวกัน"
   ]
  },
  {
   "cell_type": "markdown",
   "metadata": {},
   "source": [
    "7. keyword static ใช้กับสมาชิกประเภทใดของคลาสได้บ้าง"
   ]
  },
  {
   "cell_type": "markdown",
   "metadata": {},
   "source": [
    "ใช้ได้กับ สมาชิกของคลาส (members) ที่ต้องการให้มีพฤติกรรมพิเศษที่แตกต่างจากสมาชิกปกติ โดย static จะบ่งชี้ว่า สมาชิก นั้น ๆ เป็นของ คลาส แทนที่จะเป็นของ อินสแตนซ์ (อ็อบเจ็กต์) ของคลาสนั้น"
   ]
  }
 ],
 "metadata": {
  "kernelspec": {
   "display_name": ".NET (C#)",
   "language": "C#",
   "name": ".net-csharp"
  },
  "polyglot_notebook": {
   "kernelInfo": {
    "defaultKernelName": "csharp",
    "items": [
     {
      "aliases": [],
      "languageName": "csharp",
      "name": "csharp"
     }
    ]
   }
  }
 },
 "nbformat": 4,
 "nbformat_minor": 2
}
